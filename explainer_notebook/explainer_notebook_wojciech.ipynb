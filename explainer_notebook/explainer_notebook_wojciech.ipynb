{
 "cells": [
  {
   "cell_type": "markdown",
   "metadata": {
    "pycharm": {
     "name": "#%% md\n"
    }
   },
   "source": [
    "<hr style=\"border:2px solid black\"> </hr>\n",
    "\n",
    "# <center><font size=\"7\">Nootropics</font></center>\n",
    "\n",
    "<center><font size=\"4\">Welcome to the wonderful world of nootropics, where no task is ever too demanding!</font></center>\n",
    "\n",
    "<hr style=\"border:2px solid black\"> </hr>"
   ]
  },
  {
   "cell_type": "markdown",
   "metadata": {
    "pycharm": {
     "name": "#%% md\n"
    }
   },
   "source": [
    "# A. How to use this notebook\n",
    "\n",
    "This notebook is a part of a [project (MAKE SURE LINK WORKS)](https://XXXXXXXXXXXX). To gain access to all the functionality, download the project and run the notebook from the project root.\n",
    "\n",
    "## A.1 The code\n",
    "\n",
    "\n",
    "The code presented in this notebook has been boiled down to as few function calls as possible to make it easy for the reader to play with the parameters we have been tweaking during data collection and analysis. \n",
    "\n",
    "The all the underlying code written by the the authors of this notebook has been organized in two packages residing in the project root:\n",
    "\n",
    "* `library_functions`\n",
    "* `wojciech`\n",
    "\n",
    "The project also requires following external packages:\n",
    "\n",
    "```\n",
    "plotly, version 4.12.0\n",
    "pandas, version 1.1.1\n",
    "spacy, version 2.3.2\n",
    "infomap, version 1.2.1\n",
    "regex, version 2020.7.14\n",
    "ipywidgets, version 7.5.1\n",
    "tqdm, version 4.50.0\n",
    "python_louvain, version 0.14\n",
    "wikipedia, version 1.4.0\n",
    "textblob, version 0.15.3\n",
    "fa2, version 0.3.5\n",
    "numpy, version 1.19.2\n",
    "wordcloud, version 1.8.0\n",
    "networkx, version 2.5\n",
    "matplotlib, version 3.3.2\n",
    "powerlaw, version 1.4.6\n",
    "beautifulsoup4, version 4.9.3\n",
    "community, version 1.0.0b1\n",
    "ipython, version 7.19.0\n",
    "mediawiki, version 0.0.1\n",
    "project, version 20\n",
    "psaw, version 0.0.12\n",
    "```\n",
    "\n",
    "Additionally, we will need the `en_core_web_sm` language module  for the `spaCy` package. It can downloaded by running the cell:"
   ]
  },
  {
   "cell_type": "code",
   "execution_count": 1,
   "metadata": {
    "pycharm": {
     "name": "#%%\n"
    },
    "scrolled": true
   },
   "outputs": [],
   "source": [
    "# !python -m spacy download en_core_web_sm"
   ]
  },
  {
   "cell_type": "markdown",
   "metadata": {},
   "source": [
    "## A.2 The data [UPDATE!]\n",
    "\n",
    "The *raw* data is placed in the folder:\n",
    "\n",
    " `wikipedia_data`\n",
    "\n",
    " The cleaned data is placed in the folder:\n",
    "\n",
    " `shared_data`"
   ]
  },
  {
   "cell_type": "markdown",
   "metadata": {
    "pycharm": {
     "name": "#%% md\n"
    }
   },
   "source": [
    "# B. Initialization\n",
    "\n",
    "All necessary imports and definitions can be effectuated by running the cell:"
   ]
  },
  {
   "cell_type": "code",
   "execution_count": 2,
   "metadata": {
    "pycharm": {
     "name": "#%% All imports\n"
    },
    "scrolled": true
   },
   "outputs": [],
   "source": [
    "from library_functions.initialize_explainer_notebook import *"
   ]
  },
  {
   "cell_type": "markdown",
   "metadata": {},
   "source": [
    "<hr style=\"border:2px solid black\"> </hr>\n",
    "\n",
    "# 1. Motivation\n",
    "\n",
    "* What is your dataset?\n",
    "* Why did you choose this/these particular dataset(s)?\n",
    "* What was your goal for the end user's experience?"
   ]
  },
  {
   "cell_type": "markdown",
   "metadata": {},
   "source": [
    "<hr style=\"border:2px solid black\"> </hr>\n",
    "\n",
    "# 2. Basic stats\n",
    "\n",
    "There were five main parts in obtaining and preparing our data:\n",
    "\n",
    "1. Obtaining a list of the WikiPedia pages we want to use\n",
    "2. Downloading those pages and extracting links between them\n",
    "3. Downloading all reddit posts from [r/nootropics](https://www.reddit.com/r/Nootropics/)\n",
    "4. Finding mentions of nootropics in those posts\n",
    "5. Assigning sentiments to Reddit Posts\n",
    "\n",
    "## 2.1 Data Collection and Cleaning\n",
    "\n",
    "### 2.1.1 WikiPedia: Choosing which pages to download\n",
    "\n",
    "To start off, we needed to choose which WikiPedia data to use. Initially, we took all the pages that were below the category [Drugs by psychological effects](https://en.wikipedia.org/wiki/Category:Drugs_by_psychological_effects), and manually removed irrelevant pages and sub-categories. We mainly removed:\n",
    "\n",
    "- Everything under categories that cannot realistically be considered nootropics, such as [Psychedelic Drugs](https://en.wikipedia.org/wiki/Category:Psychedelic_drugs)\n",
    "- Pages and categories that were not about specific substances - such as [Songs about Tobacco](https://en.wikipedia.org/wiki/Category:Songs_about_tobacco)\n",
    "- Pages about __types__ of substances - such as [Stimulant](https://en.wikipedia.org/wiki/Stimulant). We only want to include substances - not *types of substances*.\n",
    "\n",
    "This part was very tedious and manual, and there was really nothing interesting about it - so we won't include code here. If you are interested, notes are in [TODO - LINK NOTEBOOK], You can also look at the resulting category tree [here](https://github.com/wojciechdk/Social_Graphs_and_Interactions_Final_Project/blob/master/shared_data/full_category_tree_clean.json).\n",
    "\n",
    "### 2.1.2 WikiPedia: Downloading the pages and extracting links\n",
    "\n",
    "Now that we had our list of pages, we needed to actually download them. This was more challenging than expected, and resulted in a couple of pull requests to the python library we are using. We won't go into details here are it is mostly irrelevant for our later analysis, but you're invited to look in [TODO-add link] for more information.\n",
    "\n",
    "Briefly, that notebook does three things:\n",
    "\n",
    "1. Traverse the category tree we generated before\n",
    "2. Download each page and save it to file\n",
    "3. Extract links (the hard part to get right)\n",
    "\n",
    "The result is a large amount of files (~1500) with the contents of all the pages (which are not included in our repo to save space), as well as one large file containing the resulting data in a more convenient form - which you can find [here](https://github.com/wojciechdk/Social_Graphs_and_Interactions_Final_Project/blob/master/shared_data/full_wiki_data.json).\n",
    "\n",
    "### 2.1.3 Reddit: Downloading Posts\n",
    "\n",
    "For Reddit posts, we make use of the [Pushift Python Library](https://github.com/pushshift/api), which is an interface to the [Pushift.io](https://api.pushshift.io/). This library is very powerful and easy to use, which meant that downloading over a 100.000 posts took much less effor than the 1.500 pages on wikipedia. Once more, the details aren't really relevant to this course - so we won't show them here, but feel free to look at [TODO - insert link].\n",
    "\n",
    "## 2.2 Data preprocessing [Luca & Wojciech]\n",
    "\n",
    "* Detection of matches in content,\n",
    "* Sentiment analysis with TextBlob\n",
    "\n",
    "## 2.3 Data statistics\n",
    "\n",
    "* Wiki: number of pages,\n",
    "* Reddit: number of posts,\n",
    "* Data size in bytes.\n",
    "* Histograms: matches per post, reddit post length, etc.."
   ]
  },
  {
   "cell_type": "markdown",
   "metadata": {
    "pycharm": {
     "name": "#%% md\n"
    }
   },
   "source": [
    "<hr style=\"border:2px solid black\"> </hr>\n",
    "\n",
    "# 3. Tools, theory and analysis. Describe the process of theory to insight\n",
    "\n",
    "* Talk about how you've worked with text, including regular expressions, unicode, etc.\n",
    "\n",
    "* Describe which network science tools and data analysis strategies you've used, how those network science measures work, and why the tools you've chosen are right for the problem you're solving.\n",
    "\n",
    "* How did you use the tools to understand your dataset?\n",
    "\n",
    "## 3.1 General idea?\n",
    "Explain the overall idea\n",
    "\n",
    "\n",
    "## 3.2 Graph creation\n",
    "\n",
    "We will be modelling the Wikipedia graph as a directional graph, and the Reddit graph as an undirectional graph. For easier comparison of the graphs we have decided to use the __names of substances regarded as nootropics on Wikipedia__ as nodes for both the Wikipedia and the Reddit network.\n",
    "\n",
    "### 3.2.1 Wikipedia\n",
    "\n",
    "#### 3.2.1.1 Nodes\n",
    "\n",
    "The __*nodes*__ in the Wikipedia network will have the following attributes:\n",
    "\n",
    "* `categories`: a list of categories to which the substance belongs on Wikipedia, e.g. `stimulant`.\n",
    "\n",
    "* `content`: the clean content of the substance's Wikipedia page.\n",
    "\n",
    "* `url`: the url of the substance's Wikipedia page.\n",
    "\n",
    "#### 3.1.1.2 Edges\n",
    "\n",
    "The __*edges*__ in the Wikipedia network will have the following attributes:\n",
    "\n",
    "* `count`: Number of occurrences of the edge (sometimes a link appears multiple times in the same page).\n",
    "\n",
    "#### 3.1.1.3 Code for graph creation\n",
    "\n",
    "To create the Wikipedia graph, run the cell:"
   ]
  },
  {
   "cell_type": "code",
   "execution_count": 3,
   "metadata": {
    "pycharm": {
     "name": "#%%\n"
    },
    "scrolled": true
   },
   "outputs": [],
   "source": [
    "g_wiki = lf.create_graph_wiki()"
   ]
  },
  {
   "cell_type": "markdown",
   "metadata": {
    "pycharm": {
     "name": "#%% md\n"
    }
   },
   "source": [
    "### 3.2.2 Reddit\n",
    "\n",
    "#### 3.2.2.1 Nodes\n",
    "\n",
    "We have already mentioned that we have chosen that **_nodes_** of the Reddit graph be the same as the nodes of the Wikipedia graph. Their attributes, however, are different:\n",
    "\n",
    "* `categories`: a list of categories to which the substance belongs on Wikipedia, e.g. `stimulant`.\n",
    "\n",
    "* `count`: The number of Reddit posts in which the substance is mentioned.\n",
    "\n",
    "* `polarity`: a list where each element represents a measure of positivity of sentiment of a post in which the substance is mentioned. The polarity ranges from -1 to 1, where -1 represents a completely negative sentiment, and +1 completely positive sentiment.\n",
    "\n",
    "* `subjectivity`: a list where each element represents a measure of subjectivity of a post in which the substance is mentioned. The subjectivity ranges from 0 to 1, where 0 represents a completely factual post, and 1 completely subjective opinion.\n",
    "\n",
    "* `content` (optional): a list where each element represents contents (text) of a post in which the substance is mentioned.\n",
    "\n",
    "#### 3.2.2.2 Edges\n",
    "\n",
    "The __*edges*__ of the Reddit network will have following attributes:\n",
    "\n",
    "* `count`: The number of Reddit posts in which the linked substances are mentioned.\n",
    "\n",
    "* `number_of_drugs_in_post`: a lit where each element represents the number of substances mentioned in the Reddit post in which the linked substances occur.\n",
    "\n",
    "* `polarity`: a list where each element represents a measure of positivity of sentiment of a post in which the substance is mentioned. The polarity ranges from -1 to 1, where -1 represents a completely negative sentiment, and +1 completely positive sentiment.\n",
    "\n",
    "* `subjectivity`: a list where each element represents a measure of subjectivity of a post in which the substance is mentioned. The subjectivity ranges from 0 to 1, where 0 represents a completely factual post, and 1 completely subjective opinion.\n",
    "\n",
    "* `content` (optional): a list where each element represents contents (text) of a post in which the substance is mentioned.\n",
    "\n",
    "#### 3.2.2.3 Tweakable parameters\n",
    "\n",
    "The graph is created using the function `lf.create_graph_reddit`. In the input of this function, the user can specify a number of constraints that will affect the creation of the graph. The tweakable parameters are:\n",
    "\n",
    "* `max_drugs_in_post`: a maximum accepted drugs in a post. The Reddit posts containing more drugs will be disregarded. This parameter can be used to filter out posts containing entire lists of drugs, and thus do not reveal much useful information about a possible connection between specific substances.\n",
    "\n",
    "* `min_edge_occurrences_to_link`: a limit describing the minimum number times a link needs to appear in order to be considered valid. The links that occur less times will be disregarded. This parameter can be used to filter out seldom occurring links.\n",
    "\n",
    "* `min_content_length_in_characters`: a limit describing the minimum allowabgle length of the content of the Reddit post. Posts with shorter content will be disregarded. This parameter can be used to filter out posts with very short content.\n",
    "\n",
    "* `conditional_functions_dict`: a dictionary keyed by attribute names whose values are functions that represent conditions for those attributes, e.g.:\n",
    "\n",
    " ```\n",
    " conditions = {'polarity': lambda x: x > 0.1,\n",
    "               'subjectivity': lambda x: < 0.2}\n",
    " ```\n",
    " \n",
    " This parameter can be used to create a graph based on the values of a certain attribute, or a combination of attributes, e.g. a graph of substances connected in posts with a positive sentiment.\n",
    "\n",
    "* `include_node_contents`: A boolean determining whether to assign the content of the posts containing a drug as a node attribute. This parameter can be used to reduce the amount of data stored in RAM and shorten up the processing time.\n",
    "\n",
    "* `include_link_contents`: A boolean determining whether to assign the content of the posts containing a drug as a edge attribute. This parameter can be used to reduce the amount of data stored in RAM and shorten up the processing time"
   ]
  },
  {
   "cell_type": "markdown",
   "metadata": {},
   "source": [
    "#### 3.2.2.3 Effect of tweakable parameters on the Reddit graph\n",
    "\n",
    "In this section we will present our reasoning behind our choice of values for the parameters that affect the formation of the Reddit graph. To do this we will compare four Reddit graphs created using the constraints we will be using in the remainder of the project:\n",
    "\n",
    "* A raw graph, created with no constraints.\n",
    "* A graph where Reddit posts with more than 10 substances were discarded.\n",
    "* A graph where Reddit posts whose content was less than 25 characters log where discarded.\n",
    "* A graph where all the links appearing less then 2 times were removed.\n",
    "\n",
    "The graphs are created by running the cell:"
   ]
  },
  {
   "cell_type": "code",
   "execution_count": 4,
   "metadata": {
    "scrolled": true
   },
   "outputs": [],
   "source": [
    "# Create test Reddit graphs.\n",
    "test_reddit_graphs = dict()\n",
    "\n",
    "test_reddit_graphs['Raw'] = lf.create_graph_reddit()\n",
    "\n",
    "test_reddit_graphs['Max 10 drugs in post'] = \\\n",
    "    lf.create_graph_reddit(max_drugs_in_post=10)\n",
    "\n",
    "test_reddit_graphs['Min 25 characters in post'] = \\\n",
    "    lf.create_graph_reddit(min_content_length_in_characters=25)\n",
    "\n",
    "test_reddit_graphs['Min 3 occurences to link'] = \\\n",
    "    lf.create_graph_reddit(min_edge_occurrences_to_link=3)"
   ]
  },
  {
   "cell_type": "markdown",
   "metadata": {},
   "source": [
    "Let's first take a look at the distribution of the edge attribute: __*polarity_weighted*__, which is a one-digit representation of the positivity of the sentiment of all posts in which the edge exists.\n",
    "\n",
    "We can plot the comparison of the networks created using different parameters by running the cell:"
   ]
  },
  {
   "cell_type": "code",
   "execution_count": 5,
   "metadata": {
    "scrolled": false
   },
   "outputs": [
    {
     "data": {
      "image/png": "[encoded data removed]",
      "text/plain": [
       "<Figure size 576x840 with 4 Axes>"
      ]
     },
     "metadata": {
      "needs_background": "light"
     },
     "output_type": "display_data"
    }
   ],
   "source": [
    "# Plot the distribution of the edge parameter: \"polarity_weighted\"\n",
    "axess = w.graph.plot_comparison_of_attribute_distributions(\n",
    "    test_reddit_graphs,\n",
    "    attribute_name=\"polarity_weighted\",\n",
    "    attribute_parent=\"edge\",\n",
    "    as_probability_distribution=False,\n",
    "    bins=np.linspace(-1, 1, 201),\n",
    "    x_limit=(-0.5, 0.5),\n",
    "    fig_width=8\n",
    ")"
   ]
  },
  {
   "cell_type": "markdown",
   "metadata": {},
   "source": [
    "We can see in the figure above that the raw graph (top plot) contains a very high number of edges with weighted polarity value of around 3.5. An investigation showed that this has been caused by a small fracture of posts containing long lists of substances, often for commercial purposes. Without any constraints, we would create a link between all the substances present in such a post. We are, however, more interested in the links between substances that the Reddit users discuss rather than posts that serve as advertisements. Therefore, we have decided to impose a limit of max 10 substantes per post that will be included in our graph (second plot from top).\n",
    "\n",
    "We have also chosen to disregard the very weak links i.e. links that appear less then 3 times, in order to reduce the amound of \"noise\" in the created graph (bottom plot). \n",
    "\n",
    "To understand why we have chosen to disregard the Reddit posts whose content was less than 25 characters long, let's look at the distrbution of the polarity values for a popular nootropic substance: caffeine:"
   ]
  },
  {
   "cell_type": "code",
   "execution_count": 6,
   "metadata": {
    "scrolled": false
   },
   "outputs": [
    {
     "data": {
      "image/png": "[encoded data removed]",
      "text/plain": [
       "<Figure size 576x840 with 4 Axes>"
      ]
     },
     "metadata": {
      "needs_background": "light"
     },
     "output_type": "display_data"
    }
   ],
   "source": [
    "# Plot distribution of values of one instance (node or edge)\n",
    "axess = w.graph.plot_distribution_of_attribute_of_1_instance(\n",
    "    test_reddit_graphs,\n",
    "    instance=\"node\",\n",
    "    instance_label=\"caffeine\",\n",
    "    attribute_name=\"polarity\",\n",
    "    fig_width=8\n",
    ")"
   ]
  },
  {
   "cell_type": "markdown",
   "metadata": {},
   "source": [
    "We can see in the figure above that the raw graph contains exceptionally many posts containing caffeine with a polarity of 0. An investigation of this phenomenon revealed that the word \"coffeine\" was mentioned in the title of a removed post, whose content therefore consisted of a single string: `[removed]`. As such posts provide with with little to none information about the context of a potential link, we have chosen to disregard posts with less than 25 characters. "
   ]
  },
  {
   "cell_type": "markdown",
   "metadata": {
    "pycharm": {
     "name": "#%% md\n"
    }
   },
   "source": [
    "#### 3.2.2.4 Code for graph creation\n",
    "\n",
    "To create the Reddit graph with our choice of constraints, run the following code:"
   ]
  },
  {
   "cell_type": "code",
   "execution_count": 7,
   "metadata": {
    "pycharm": {
     "name": "#%%\n"
    },
    "scrolled": true
   },
   "outputs": [],
   "source": [
    "g_reddit = lf.create_graph_reddit(\n",
    "    max_drugs_in_post=10,\n",
    "    min_edge_occurrences_to_link=3,\n",
    "    min_content_length_in_characters=25,\n",
    "    conditional_functions_dict=None,\n",
    "    include_node_contents=False,\n",
    "    include_link_contents=False,\n",
    "    show_progress_bars=False\n",
    ")"
   ]
  },
  {
   "cell_type": "markdown",
   "metadata": {
    "pycharm": {
     "name": "#%% md\n"
    }
   },
   "source": [
    "We also invite the reader to create an alternative graph using their own constraints. We will include this graph in our analysis in the following chapters:"
   ]
  },
  {
   "cell_type": "code",
   "execution_count": 8,
   "metadata": {
    "pycharm": {
     "name": "#%%\n"
    },
    "scrolled": true
   },
   "outputs": [],
   "source": [
    "g_reddit_reader = lf.create_graph_reddit(\n",
    "    max_drugs_in_post=10,\n",
    "    min_edge_occurrences_to_link=3,\n",
    "    min_content_length_in_characters=25,\n",
    "    conditional_functions_dict={'polarity': lambda x: x > 0.15},\n",
    "    include_node_contents=False,\n",
    "    include_link_contents=False,\n",
    "    show_progress_bars=False\n",
    ")"
   ]
  },
  {
   "cell_type": "markdown",
   "metadata": {
    "pycharm": {
     "name": "#%% md\n"
    }
   },
   "source": [
    "## 3.3 Network evaluation\n",
    "\n",
    "In this chapter we will zoom in on specific properties of the created networks, compare them, and interpret our findings.\n",
    "\n",
    "Let's start by organizing the graphs we will be comparing in a dict:"
   ]
  },
  {
   "cell_type": "code",
   "execution_count": 9,
   "metadata": {
    "pycharm": {
     "name": "#%% Degree stat\n"
    },
    "scrolled": true
   },
   "outputs": [],
   "source": [
    "# List the graphs that will be used in further analysis.\n",
    "graphs = {'Wikipedia': g_wiki,\n",
    "          'Reddit': g_reddit,\n",
    "          'Reddit (reader)': g_reddit_reader}"
   ]
  },
  {
   "cell_type": "markdown",
   "metadata": {
    "pycharm": {
     "name": "#%% md\n"
    }
   },
   "source": [
    "### 3.X.X Basic degree statistics"
   ]
  },
  {
   "cell_type": "code",
   "execution_count": 10,
   "metadata": {
    "pycharm": {
     "name": "#%% Degree stat\n"
    },
    "scrolled": false
   },
   "outputs": [
    {
     "data": {
      "text/markdown": [
       "Degree statistiscs for the **Wikipedia** network:"
      ],
      "text/plain": [
       "<IPython.core.display.Markdown object>"
      ]
     },
     "metadata": {},
     "output_type": "display_data"
    },
    {
     "data": {
      "text/html": [
       "<div>\n",
       "<style scoped>\n",
       "    .dataframe tbody tr th:only-of-type {\n",
       "        vertical-align: middle;\n",
       "    }\n",
       "\n",
       "    .dataframe tbody tr th {\n",
       "        vertical-align: top;\n",
       "    }\n",
       "\n",
       "    .dataframe thead th {\n",
       "        text-align: right;\n",
       "    }\n",
       "</style>\n",
       "<table border=\"1\" class=\"dataframe\">\n",
       "  <thead>\n",
       "    <tr style=\"text-align: right;\">\n",
       "      <th></th>\n",
       "      <th>Min</th>\n",
       "      <th>Max</th>\n",
       "      <th>Mean</th>\n",
       "      <th>Median</th>\n",
       "      <th>Mode</th>\n",
       "    </tr>\n",
       "  </thead>\n",
       "  <tbody>\n",
       "    <tr>\n",
       "      <th>Total degree</th>\n",
       "      <td>0</td>\n",
       "      <td>115</td>\n",
       "      <td>5.55526</td>\n",
       "      <td>2.0</td>\n",
       "      <td>0</td>\n",
       "    </tr>\n",
       "    <tr>\n",
       "      <th>In-degree</th>\n",
       "      <td>0</td>\n",
       "      <td>86</td>\n",
       "      <td>2.77763</td>\n",
       "      <td>1.0</td>\n",
       "      <td>0</td>\n",
       "    </tr>\n",
       "    <tr>\n",
       "      <th>Out-degree</th>\n",
       "      <td>0</td>\n",
       "      <td>40</td>\n",
       "      <td>2.77763</td>\n",
       "      <td>1.0</td>\n",
       "      <td>0</td>\n",
       "    </tr>\n",
       "  </tbody>\n",
       "</table>\n",
       "</div>"
      ],
      "text/plain": [
       "              Min  Max     Mean  Median  Mode\n",
       "Total degree    0  115  5.55526     2.0     0\n",
       "In-degree       0   86  2.77763     1.0     0\n",
       "Out-degree      0   40  2.77763     1.0     0"
      ]
     },
     "metadata": {},
     "output_type": "display_data"
    },
    {
     "name": "stdout",
     "output_type": "stream",
     "text": [
      "\n"
     ]
    },
    {
     "data": {
      "text/markdown": [
       "Degree statistiscs for the **Reddit** network:"
      ],
      "text/plain": [
       "<IPython.core.display.Markdown object>"
      ]
     },
     "metadata": {},
     "output_type": "display_data"
    },
    {
     "data": {
      "text/html": [
       "<div>\n",
       "<style scoped>\n",
       "    .dataframe tbody tr th:only-of-type {\n",
       "        vertical-align: middle;\n",
       "    }\n",
       "\n",
       "    .dataframe tbody tr th {\n",
       "        vertical-align: top;\n",
       "    }\n",
       "\n",
       "    .dataframe thead th {\n",
       "        text-align: right;\n",
       "    }\n",
       "</style>\n",
       "<table border=\"1\" class=\"dataframe\">\n",
       "  <thead>\n",
       "    <tr style=\"text-align: right;\">\n",
       "      <th></th>\n",
       "      <th>Min</th>\n",
       "      <th>Max</th>\n",
       "      <th>Mean</th>\n",
       "      <th>Median</th>\n",
       "      <th>Mode</th>\n",
       "    </tr>\n",
       "  </thead>\n",
       "  <tbody>\n",
       "    <tr>\n",
       "      <th>Total degree</th>\n",
       "      <td>0</td>\n",
       "      <td>201</td>\n",
       "      <td>5.60719</td>\n",
       "      <td>0.0</td>\n",
       "      <td>0</td>\n",
       "    </tr>\n",
       "  </tbody>\n",
       "</table>\n",
       "</div>"
      ],
      "text/plain": [
       "              Min  Max     Mean  Median  Mode\n",
       "Total degree    0  201  5.60719     0.0     0"
      ]
     },
     "metadata": {},
     "output_type": "display_data"
    },
    {
     "name": "stdout",
     "output_type": "stream",
     "text": [
      "\n"
     ]
    },
    {
     "data": {
      "text/markdown": [
       "Degree statistiscs for the **Reddit (reader)** network:"
      ],
      "text/plain": [
       "<IPython.core.display.Markdown object>"
      ]
     },
     "metadata": {},
     "output_type": "display_data"
    },
    {
     "data": {
      "text/html": [
       "<div>\n",
       "<style scoped>\n",
       "    .dataframe tbody tr th:only-of-type {\n",
       "        vertical-align: middle;\n",
       "    }\n",
       "\n",
       "    .dataframe tbody tr th {\n",
       "        vertical-align: top;\n",
       "    }\n",
       "\n",
       "    .dataframe thead th {\n",
       "        text-align: right;\n",
       "    }\n",
       "</style>\n",
       "<table border=\"1\" class=\"dataframe\">\n",
       "  <thead>\n",
       "    <tr style=\"text-align: right;\">\n",
       "      <th></th>\n",
       "      <th>Min</th>\n",
       "      <th>Max</th>\n",
       "      <th>Mean</th>\n",
       "      <th>Median</th>\n",
       "      <th>Mode</th>\n",
       "    </tr>\n",
       "  </thead>\n",
       "  <tbody>\n",
       "    <tr>\n",
       "      <th>Total degree</th>\n",
       "      <td>0</td>\n",
       "      <td>102</td>\n",
       "      <td>2.209055</td>\n",
       "      <td>0.0</td>\n",
       "      <td>0</td>\n",
       "    </tr>\n",
       "  </tbody>\n",
       "</table>\n",
       "</div>"
      ],
      "text/plain": [
       "              Min  Max      Mean  Median  Mode\n",
       "Total degree    0  102  2.209055     0.0     0"
      ]
     },
     "metadata": {},
     "output_type": "display_data"
    },
    {
     "name": "stdout",
     "output_type": "stream",
     "text": [
      "\n"
     ]
    }
   ],
   "source": [
    "# Display the basic degree statistics.\n",
    "for graph_name, graph in graphs.items():\n",
    "    printmd(f'Degree statistiscs for the **{graph_name}** network:')\n",
    "    degree_stats_reddit = w.graph.degree_statistics(graph,\n",
    "                                                    as_pandas=True,\n",
    "                                                    printout=True)\n",
    "    print()"
   ]
  },
  {
   "cell_type": "markdown",
   "metadata": {},
   "source": [
    "**WRITE INTERPRETATION HERE**"
   ]
  },
  {
   "cell_type": "markdown",
   "metadata": {
    "pycharm": {
     "name": "#%% md\n"
    }
   },
   "source": [
    "### 3.3.1 Degree distribution\n",
    "\n",
    "We can compare the degree distributions of our networks by running the cell:"
   ]
  },
  {
   "cell_type": "code",
   "execution_count": 11,
   "metadata": {
    "pycharm": {
     "name": "#%%\n"
    },
    "scrolled": false
   },
   "outputs": [
    {
     "data": {
      "image/png": "[encoded data removed]",
      "text/plain": [
       "<Figure size 864x936 with 6 Axes>"
      ]
     },
     "metadata": {},
     "output_type": "display_data"
    }
   ],
   "source": [
    "# Create a random network with the same degree probability as the g_reddit network.\n",
    "random_like_g_reddit = w.graph.erdos_renyi_like(g_reddit)\n",
    "\n",
    "# Add the created random network to the collection of graphs to analyze.\n",
    "graphs_to_analyze = graphs.copy()\n",
    "graphs_to_analyze.update({'Random reddit': random_like_g_reddit})\n",
    "\n",
    "# Define the colors by which the graphs will be represented in the analysis.\n",
    "graph_colors = [\"red\", \"blue\", \"green\", \"orange\"]\n",
    "\n",
    "# Plot the comparison of the degree distribution.\n",
    "all_axes = w.graph.plot_degree_distribution_summary(\n",
    "    graphs_to_analyze,\n",
    "    graph_colors=graph_colors,\n",
    "    x_lim_lin=(-2, 50),\n",
    "    x_lim_log=(0.9, 200)\n",
    ")"
   ]
  },
  {
   "cell_type": "markdown",
   "metadata": {
    "pycharm": {
     "name": "#%% md\n"
    }
   },
   "source": [
    "We can see in the figure above that both the Wikipedia and the Reddit networks have highly connected nodes, and that variance of the degrees of their nodes is much higher that the variance of a comparable random network. However, only the Wikipedia network exhibits the scale-free property with $\\alpha$ just under 3."
   ]
  },
  {
   "cell_type": "markdown",
   "metadata": {
    "pycharm": {
     "name": "#%% md\n"
    }
   },
   "source": [
    "### 3.3.2 Most central nodes\n",
    "\n",
    "In this chapter we will discover the most central nodes in our networks. Let's start by defining some parameters about how we we want our results presented:"
   ]
  },
  {
   "cell_type": "code",
   "execution_count": 12,
   "metadata": {
    "pycharm": {
     "name": "#%%\n"
    },
    "scrolled": true
   },
   "outputs": [],
   "source": [
    "# Define the number of nodes to show in the result tables\n",
    "n_results = 5\n",
    "\n",
    "# Specify the precision for the digits in the result tables\n",
    "precision_in_decimals = 3 \n",
    "\n",
    "# Define the precision of of the displayed numbers\n",
    "pd.options.display.float_format = f\"{{:,.{precision_in_decimals}f}}\".format"
   ]
  },
  {
   "cell_type": "markdown",
   "metadata": {},
   "source": [
    "Now, we can get the information about the most central nodes by running the cell:"
   ]
  },
  {
   "cell_type": "code",
   "execution_count": 13,
   "metadata": {
    "pycharm": {
     "name": "#%%\n"
    },
    "scrolled": false
   },
   "outputs": [
    {
     "data": {
      "text/markdown": [
       "The most central nodes in the **Wikipedia** network:"
      ],
      "text/plain": [
       "<IPython.core.display.Markdown object>"
      ]
     },
     "metadata": {},
     "output_type": "display_data"
    },
    {
     "data": {
      "text/html": [
       "<div>\n",
       "<style scoped>\n",
       "    .dataframe tbody tr th:only-of-type {\n",
       "        vertical-align: middle;\n",
       "    }\n",
       "\n",
       "    .dataframe tbody tr th {\n",
       "        vertical-align: top;\n",
       "    }\n",
       "\n",
       "    .dataframe thead tr th {\n",
       "        text-align: left;\n",
       "    }\n",
       "</style>\n",
       "<table border=\"1\" class=\"dataframe\">\n",
       "  <thead>\n",
       "    <tr>\n",
       "      <th></th>\n",
       "      <th colspan=\"2\" halign=\"left\">Degree</th>\n",
       "      <th colspan=\"2\" halign=\"left\">In-degree</th>\n",
       "      <th colspan=\"2\" halign=\"left\">Out-degree</th>\n",
       "      <th colspan=\"2\" halign=\"left\">Betweenness</th>\n",
       "      <th colspan=\"2\" halign=\"left\">Eigenvector</th>\n",
       "    </tr>\n",
       "    <tr>\n",
       "      <th></th>\n",
       "      <th>Drug</th>\n",
       "      <th>Score</th>\n",
       "      <th>Drug</th>\n",
       "      <th>Score</th>\n",
       "      <th>Drug</th>\n",
       "      <th>Score</th>\n",
       "      <th>Drug</th>\n",
       "      <th>Score</th>\n",
       "      <th>Drug</th>\n",
       "      <th>Score</th>\n",
       "    </tr>\n",
       "  </thead>\n",
       "  <tbody>\n",
       "    <tr>\n",
       "      <th>1</th>\n",
       "      <td>tricyclic antidepressant</td>\n",
       "      <td>115</td>\n",
       "      <td>amphetamine</td>\n",
       "      <td>86</td>\n",
       "      <td>rti-56</td>\n",
       "      <td>40</td>\n",
       "      <td>amphetamine</td>\n",
       "      <td>0.043</td>\n",
       "      <td>tricyclic antidepressant</td>\n",
       "      <td>0.334</td>\n",
       "    </tr>\n",
       "    <tr>\n",
       "      <th>2</th>\n",
       "      <td>amphetamine</td>\n",
       "      <td>114</td>\n",
       "      <td>cocaine</td>\n",
       "      <td>85</td>\n",
       "      <td>rti-331</td>\n",
       "      <td>40</td>\n",
       "      <td>cocaine</td>\n",
       "      <td>0.039</td>\n",
       "      <td>imipramine</td>\n",
       "      <td>0.253</td>\n",
       "    </tr>\n",
       "    <tr>\n",
       "      <th>3</th>\n",
       "      <td>barbiturate</td>\n",
       "      <td>107</td>\n",
       "      <td>barbiturate</td>\n",
       "      <td>84</td>\n",
       "      <td>rti-332</td>\n",
       "      <td>40</td>\n",
       "      <td>methamphetamine</td>\n",
       "      <td>0.035</td>\n",
       "      <td>fluoxetine</td>\n",
       "      <td>0.229</td>\n",
       "    </tr>\n",
       "    <tr>\n",
       "      <th>4</th>\n",
       "      <td>cocaine</td>\n",
       "      <td>103</td>\n",
       "      <td>tricyclic antidepressant</td>\n",
       "      <td>76</td>\n",
       "      <td>rti-333</td>\n",
       "      <td>40</td>\n",
       "      <td>barbiturate</td>\n",
       "      <td>0.030</td>\n",
       "      <td>amitriptyline</td>\n",
       "      <td>0.221</td>\n",
       "    </tr>\n",
       "    <tr>\n",
       "      <th>5</th>\n",
       "      <td>methamphetamine</td>\n",
       "      <td>75</td>\n",
       "      <td>mdma</td>\n",
       "      <td>56</td>\n",
       "      <td>tricyclic antidepressant</td>\n",
       "      <td>39</td>\n",
       "      <td>nicotine</td>\n",
       "      <td>0.027</td>\n",
       "      <td>clomipramine</td>\n",
       "      <td>0.206</td>\n",
       "    </tr>\n",
       "  </tbody>\n",
       "</table>\n",
       "</div>"
      ],
      "text/plain": [
       "                     Degree                       In-degree        \\\n",
       "                       Drug Score                      Drug Score   \n",
       "1  tricyclic antidepressant   115               amphetamine    86   \n",
       "2               amphetamine   114                   cocaine    85   \n",
       "3               barbiturate   107               barbiturate    84   \n",
       "4                   cocaine   103  tricyclic antidepressant    76   \n",
       "5           methamphetamine    75                      mdma    56   \n",
       "\n",
       "                 Out-degree            Betweenness        \\\n",
       "                       Drug Score             Drug Score   \n",
       "1                    rti-56    40      amphetamine 0.043   \n",
       "2                   rti-331    40          cocaine 0.039   \n",
       "3                   rti-332    40  methamphetamine 0.035   \n",
       "4                   rti-333    40      barbiturate 0.030   \n",
       "5  tricyclic antidepressant    39         nicotine 0.027   \n",
       "\n",
       "                Eigenvector        \n",
       "                       Drug Score  \n",
       "1  tricyclic antidepressant 0.334  \n",
       "2                imipramine 0.253  \n",
       "3                fluoxetine 0.229  \n",
       "4             amitriptyline 0.221  \n",
       "5              clomipramine 0.206  "
      ]
     },
     "metadata": {},
     "output_type": "display_data"
    },
    {
     "name": "stdout",
     "output_type": "stream",
     "text": [
      "\n"
     ]
    },
    {
     "data": {
      "text/markdown": [
       "The most central nodes in the **Reddit** network:"
      ],
      "text/plain": [
       "<IPython.core.display.Markdown object>"
      ]
     },
     "metadata": {},
     "output_type": "display_data"
    },
    {
     "data": {
      "text/html": [
       "<div>\n",
       "<style scoped>\n",
       "    .dataframe tbody tr th:only-of-type {\n",
       "        vertical-align: middle;\n",
       "    }\n",
       "\n",
       "    .dataframe tbody tr th {\n",
       "        vertical-align: top;\n",
       "    }\n",
       "\n",
       "    .dataframe thead tr th {\n",
       "        text-align: left;\n",
       "    }\n",
       "</style>\n",
       "<table border=\"1\" class=\"dataframe\">\n",
       "  <thead>\n",
       "    <tr>\n",
       "      <th></th>\n",
       "      <th colspan=\"2\" halign=\"left\">Degree</th>\n",
       "      <th colspan=\"2\" halign=\"left\">Betweenness</th>\n",
       "      <th colspan=\"2\" halign=\"left\">Eigenvector</th>\n",
       "    </tr>\n",
       "    <tr>\n",
       "      <th></th>\n",
       "      <th>Drug</th>\n",
       "      <th>Score</th>\n",
       "      <th>Drug</th>\n",
       "      <th>Score</th>\n",
       "      <th>Drug</th>\n",
       "      <th>Score</th>\n",
       "    </tr>\n",
       "  </thead>\n",
       "  <tbody>\n",
       "    <tr>\n",
       "      <th>1</th>\n",
       "      <td>s-adenosyl methionine</td>\n",
       "      <td>201</td>\n",
       "      <td>s-adenosyl methionine</td>\n",
       "      <td>0.009</td>\n",
       "      <td>s-adenosyl methionine</td>\n",
       "      <td>0.158</td>\n",
       "    </tr>\n",
       "    <tr>\n",
       "      <th>2</th>\n",
       "      <td>caffeine</td>\n",
       "      <td>173</td>\n",
       "      <td>caffeine</td>\n",
       "      <td>0.005</td>\n",
       "      <td>caffeine</td>\n",
       "      <td>0.154</td>\n",
       "    </tr>\n",
       "    <tr>\n",
       "      <th>3</th>\n",
       "      <td>theanine</td>\n",
       "      <td>159</td>\n",
       "      <td>tea</td>\n",
       "      <td>0.003</td>\n",
       "      <td>theanine</td>\n",
       "      <td>0.153</td>\n",
       "    </tr>\n",
       "    <tr>\n",
       "      <th>4</th>\n",
       "      <td>coffee</td>\n",
       "      <td>143</td>\n",
       "      <td>theanine</td>\n",
       "      <td>0.002</td>\n",
       "      <td>coffee</td>\n",
       "      <td>0.147</td>\n",
       "    </tr>\n",
       "    <tr>\n",
       "      <th>5</th>\n",
       "      <td>choline</td>\n",
       "      <td>136</td>\n",
       "      <td>coffee</td>\n",
       "      <td>0.002</td>\n",
       "      <td>choline</td>\n",
       "      <td>0.147</td>\n",
       "    </tr>\n",
       "  </tbody>\n",
       "</table>\n",
       "</div>"
      ],
      "text/plain": [
       "                  Degree                  Betweenness        \\\n",
       "                    Drug Score                   Drug Score   \n",
       "1  s-adenosyl methionine   201  s-adenosyl methionine 0.009   \n",
       "2               caffeine   173               caffeine 0.005   \n",
       "3               theanine   159                    tea 0.003   \n",
       "4                 coffee   143               theanine 0.002   \n",
       "5                choline   136                 coffee 0.002   \n",
       "\n",
       "             Eigenvector        \n",
       "                    Drug Score  \n",
       "1  s-adenosyl methionine 0.158  \n",
       "2               caffeine 0.154  \n",
       "3               theanine 0.153  \n",
       "4                 coffee 0.147  \n",
       "5                choline 0.147  "
      ]
     },
     "metadata": {},
     "output_type": "display_data"
    },
    {
     "name": "stdout",
     "output_type": "stream",
     "text": [
      "\n"
     ]
    },
    {
     "data": {
      "text/markdown": [
       "The most central nodes in the **Reddit (reader)** network:"
      ],
      "text/plain": [
       "<IPython.core.display.Markdown object>"
      ]
     },
     "metadata": {},
     "output_type": "display_data"
    },
    {
     "data": {
      "text/html": [
       "<div>\n",
       "<style scoped>\n",
       "    .dataframe tbody tr th:only-of-type {\n",
       "        vertical-align: middle;\n",
       "    }\n",
       "\n",
       "    .dataframe tbody tr th {\n",
       "        vertical-align: top;\n",
       "    }\n",
       "\n",
       "    .dataframe thead tr th {\n",
       "        text-align: left;\n",
       "    }\n",
       "</style>\n",
       "<table border=\"1\" class=\"dataframe\">\n",
       "  <thead>\n",
       "    <tr>\n",
       "      <th></th>\n",
       "      <th colspan=\"2\" halign=\"left\">Degree</th>\n",
       "      <th colspan=\"2\" halign=\"left\">Betweenness</th>\n",
       "      <th colspan=\"2\" halign=\"left\">Eigenvector</th>\n",
       "    </tr>\n",
       "    <tr>\n",
       "      <th></th>\n",
       "      <th>Drug</th>\n",
       "      <th>Score</th>\n",
       "      <th>Drug</th>\n",
       "      <th>Score</th>\n",
       "      <th>Drug</th>\n",
       "      <th>Score</th>\n",
       "    </tr>\n",
       "  </thead>\n",
       "  <tbody>\n",
       "    <tr>\n",
       "      <th>1</th>\n",
       "      <td>caffeine</td>\n",
       "      <td>102</td>\n",
       "      <td>caffeine</td>\n",
       "      <td>0.002</td>\n",
       "      <td>caffeine</td>\n",
       "      <td>0.199</td>\n",
       "    </tr>\n",
       "    <tr>\n",
       "      <th>2</th>\n",
       "      <td>theanine</td>\n",
       "      <td>102</td>\n",
       "      <td>s-adenosyl methionine</td>\n",
       "      <td>0.002</td>\n",
       "      <td>theanine</td>\n",
       "      <td>0.198</td>\n",
       "    </tr>\n",
       "    <tr>\n",
       "      <th>3</th>\n",
       "      <td>s-adenosyl methionine</td>\n",
       "      <td>99</td>\n",
       "      <td>theanine</td>\n",
       "      <td>0.002</td>\n",
       "      <td>s-adenosyl methionine</td>\n",
       "      <td>0.194</td>\n",
       "    </tr>\n",
       "    <tr>\n",
       "      <th>4</th>\n",
       "      <td>choline</td>\n",
       "      <td>81</td>\n",
       "      <td>choline</td>\n",
       "      <td>0.001</td>\n",
       "      <td>choline</td>\n",
       "      <td>0.184</td>\n",
       "    </tr>\n",
       "    <tr>\n",
       "      <th>5</th>\n",
       "      <td>n-phenylacetyl-l-prolylglycine ethyl ester</td>\n",
       "      <td>79</td>\n",
       "      <td>modafinil</td>\n",
       "      <td>0.001</td>\n",
       "      <td>n-phenylacetyl-l-prolylglycine ethyl ester</td>\n",
       "      <td>0.182</td>\n",
       "    </tr>\n",
       "  </tbody>\n",
       "</table>\n",
       "</div>"
      ],
      "text/plain": [
       "                                       Degree                  Betweenness  \\\n",
       "                                         Drug Score                   Drug   \n",
       "1                                    caffeine   102               caffeine   \n",
       "2                                    theanine   102  s-adenosyl methionine   \n",
       "3                       s-adenosyl methionine    99               theanine   \n",
       "4                                     choline    81                choline   \n",
       "5  n-phenylacetyl-l-prolylglycine ethyl ester    79              modafinil   \n",
       "\n",
       "                                        Eigenvector        \n",
       "  Score                                        Drug Score  \n",
       "1 0.002                                    caffeine 0.199  \n",
       "2 0.002                                    theanine 0.198  \n",
       "3 0.002                       s-adenosyl methionine 0.194  \n",
       "4 0.001                                     choline 0.184  \n",
       "5 0.001  n-phenylacetyl-l-prolylglycine ethyl ester 0.182  "
      ]
     },
     "metadata": {},
     "output_type": "display_data"
    },
    {
     "name": "stdout",
     "output_type": "stream",
     "text": [
      "\n"
     ]
    }
   ],
   "source": [
    "# Show the most central nodes\n",
    "for graph_name, graph in graphs.items():\n",
    "    printmd(f'The most central nodes in the **{graph_name}** network:')\n",
    "    most_central_nodes_wiki = w.graph.most_central_nodes(\n",
    "        graph, n=n_results, as_pandas=True, printout=True)\n",
    "    print()"
   ]
  },
  {
   "cell_type": "markdown",
   "metadata": {},
   "source": [
    "**INTERPRETATION HERE**"
   ]
  },
  {
   "cell_type": "markdown",
   "metadata": {
    "pycharm": {
     "name": "#%% md\n"
    }
   },
   "source": [
    "### 3.3.3 Most often occurring edges\n",
    "\n",
    "In this chapter we will discover the most central nodes in our networks. Let's start by defining some parameters about how we we want our results presented:"
   ]
  },
  {
   "cell_type": "code",
   "execution_count": 14,
   "metadata": {},
   "outputs": [
    {
     "ename": "ValueError",
     "evalue": "cannot copy sequence with size 1502 to array axis with dimension 5",
     "output_type": "error",
     "traceback": [
      "\u001B[1;31m---------------------------------------------------------------------------\u001B[0m",
      "\u001B[1;31mValueError\u001B[0m                                Traceback (most recent call last)",
      "\u001B[1;32m<ipython-input-14-b291ea7f07d4>\u001B[0m in \u001B[0;36m<module>\u001B[1;34m\u001B[0m\n\u001B[1;32m----> 1\u001B[1;33m lf.most_frequent_edges(graphs,\n\u001B[0m\u001B[0;32m      2\u001B[0m                        \u001B[0mn\u001B[0m\u001B[1;33m=\u001B[0m\u001B[1;36m5\u001B[0m\u001B[1;33m,\u001B[0m\u001B[1;33m\u001B[0m\u001B[1;33m\u001B[0m\u001B[0m\n\u001B[0;32m      3\u001B[0m                        \u001B[0mas_pandas\u001B[0m\u001B[1;33m=\u001B[0m\u001B[1;32mTrue\u001B[0m\u001B[1;33m,\u001B[0m\u001B[1;33m\u001B[0m\u001B[1;33m\u001B[0m\u001B[0m\n\u001B[0;32m      4\u001B[0m                        printout=True)\n",
      "\u001B[1;32mC:\\GDrive\\DTU\\Kurser\\Social_Graphs_and_Interactions_02805\\Project\\library_functions\\most_frequent_edges.py\u001B[0m in \u001B[0;36mmost_frequent_edges\u001B[1;34m(graphs, n, as_pandas, printout)\u001B[0m\n\u001B[0;32m     38\u001B[0m             \u001B[0medge_count\u001B[0m \u001B[1;33m=\u001B[0m \u001B[0mnp\u001B[0m\u001B[1;33m.\u001B[0m\u001B[0mempty\u001B[0m\u001B[1;33m(\u001B[0m\u001B[0mmax_length\u001B[0m\u001B[1;33m,\u001B[0m \u001B[0mdtype\u001B[0m\u001B[1;33m=\u001B[0m\u001B[0mobject\u001B[0m\u001B[1;33m)\u001B[0m\u001B[1;33m\u001B[0m\u001B[1;33m\u001B[0m\u001B[0m\n\u001B[0;32m     39\u001B[0m \u001B[1;33m\u001B[0m\u001B[0m\n\u001B[1;32m---> 40\u001B[1;33m             \u001B[0medge_label\u001B[0m\u001B[1;33m[\u001B[0m\u001B[1;33m:\u001B[0m\u001B[0mlen\u001B[0m\u001B[1;33m(\u001B[0m\u001B[0medges_count_sorted\u001B[0m\u001B[1;33m)\u001B[0m\u001B[1;33m]\u001B[0m \u001B[1;33m=\u001B[0m\u001B[0;31m\\\u001B[0m\u001B[1;33m\u001B[0m\u001B[1;33m\u001B[0m\u001B[0m\n\u001B[0m\u001B[0;32m     41\u001B[0m                 \u001B[0mlist\u001B[0m\u001B[1;33m(\u001B[0m\u001B[0mmap\u001B[0m\u001B[1;33m(\u001B[0m\u001B[0mitemgetter\u001B[0m\u001B[1;33m(\u001B[0m\u001B[1;36m0\u001B[0m\u001B[1;33m)\u001B[0m\u001B[1;33m,\u001B[0m \u001B[0medges_count_sorted\u001B[0m\u001B[1;33m)\u001B[0m\u001B[1;33m)\u001B[0m\u001B[1;33m\u001B[0m\u001B[1;33m\u001B[0m\u001B[0m\n\u001B[0;32m     42\u001B[0m \u001B[1;33m\u001B[0m\u001B[0m\n",
      "\u001B[1;31mValueError\u001B[0m: cannot copy sequence with size 1502 to array axis with dimension 5"
     ]
    }
   ],
   "source": [
    "lf.most_frequent_edges(graphs,\n",
    "                       n=5,\n",
    "                       as_pandas=True,\n",
    "                       printout=True)"
   ]
  },
  {
   "cell_type": "markdown",
   "metadata": {
    "pycharm": {
     "name": "#%% md\n"
    }
   },
   "source": [
    "<hr style=\"border:2px solid black\"> </hr>\n",
    "\n",
    "# 4. Discussion\n",
    "\n",
    "* What went well?,\n",
    "* What is still missing? What could be improved?, Why?"
   ]
  },
  {
   "cell_type": "markdown",
   "metadata": {},
   "source": [
    "<hr style=\"border:2px solid black\"> </hr>\n",
    "\n",
    "# 5. Contributions\n",
    "\n",
    "* You should write (just briefly) which group member was the main responsible for which elements of the assignment. (I want you guys to understand every part of the assignment, but usually there is someone who took lead role on certain portions of the work. That’s what you should explain).\n"
   ]
  }
 ],
 "metadata": {
  "celltoolbar": "Raw Cell Format",
  "kernelspec": {
   "display_name": "PyCharm (Exercises)",
   "language": "python",
   "name": "pycharm-f0629d26"
  },
  "language_info": {
   "codemirror_mode": {
    "name": "ipython",
    "version": 3
   },
   "file_extension": ".py",
   "mimetype": "text/x-python",
   "name": "python",
   "nbconvert_exporter": "python",
   "pygments_lexer": "ipython3",
   "version": "3.8.5"
  }
 },
 "nbformat": 4,
 "nbformat_minor": 1
}